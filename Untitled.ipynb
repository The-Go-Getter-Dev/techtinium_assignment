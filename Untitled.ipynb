{
 "cells": [
  {
   "cell_type": "code",
   "execution_count": 2,
   "metadata": {},
   "outputs": [],
   "source": [
    "import pandas as pd"
   ]
  },
  {
   "cell_type": "code",
   "execution_count": 3,
   "metadata": {},
   "outputs": [],
   "source": [
    "df=pd.read_csv(\"country_alloc.csv\",\"\\t\",header='infer')"
   ]
  },
  {
   "cell_type": "code",
   "execution_count": 4,
   "metadata": {},
   "outputs": [
    {
     "data": {
      "text/plain": [
       "({'Large': 10,\n",
       "  'XLarge': 20,\n",
       "  '2XLarge': 40,\n",
       "  '4XLarge': 80,\n",
       "  '8XLarge': 160,\n",
       "  '10XLarge': 320},\n",
       "   Unnamed: 0 New York   India   China\n",
       " 0      Large    $ 120   $ 140   $ 110\n",
       " 1     XLarge    $ 230           $ 200\n",
       " 2    2XLarge    $ 450   $ 413        \n",
       " 3    4XLarge    $ 774   $ 890   $ 670\n",
       " 4    8XLarge   $ 1400  $ 1300  $ 1180\n",
       " 5   10XLarge   $ 2820  $ 2970        )"
      ]
     },
     "execution_count": 4,
     "metadata": {},
     "output_type": "execute_result"
    }
   ],
   "source": [
    "df\n",
    "no_of_unit=pd.read_csv('resource_capacity.csv',\"-\",header=None)\n",
    "no_of_unit.reset_index(drop=True, inplace=True)\n",
    "\n",
    "capacity_count=dict(zip(no_of_unit[0].to_list(),[int(num.split(\" \")[0]) for num in no_of_unit[1].to_list()]))\n",
    "capacity_count,df"
   ]
  },
  {
   "cell_type": "code",
   "execution_count": 5,
   "metadata": {},
   "outputs": [],
   "source": [
    "# now since we have get all the data we are gonna make a priortiy que for each country since it can be 2 dimensional we are gonna make a dctionary for it containnig country_name as key and associated data in a list having allocatable_units,total_cost for that unit,cost per unit in that pack. cost per unity in that pack is the priorty to be lesser "
   ]
  },
  {
   "cell_type": "code",
   "execution_count": 6,
   "metadata": {},
   "outputs": [
    {
     "name": "stdout",
     "output_type": "stream",
     "text": [
      "['$ 120' '$ 230' '$ 450' '$ 774' '$ 1400' '$ 2820']\n",
      "['$ 140' ' ' '$ 413' '$ 890' '$ 1300' '$ 2970']\n",
      "['$ 110' '$ 200' ' ' '$ 670' '$ 1180' ' ']\n",
      "{'New York': [[120, 10, 12.0], [230, 20, 11.5], [450, 40, 11.25], [774, 80, 9.675], [1400, 160, 8.75], [2820, 320, 8.8125]], 'India': [[140, 10, 14.0], [0, 20, 0.0], [413, 40, 10.325], [890, 80, 11.125], [1300, 160, 8.125], [2970, 320, 9.28125]], 'China': [[110, 10, 11.0], [200, 20, 10.0], [0, 40, 0.0], [670, 80, 8.375], [1180, 160, 7.375], [0, 320, 0.0]]}\n"
     ]
    }
   ],
   "source": [
    "# since we can always find the total cost if ewe have type and \n",
    "df.iloc[:,[0]].values.tolist()\n",
    "width=df.shape[1]\n",
    "\n",
    "regions_que={}\n",
    "columns=df.columns\n",
    "capacity=df.iloc[:,0]\n",
    "counter=0\n",
    "\n",
    "for country in columns[1:]:\n",
    "    detail_list=[]\n",
    "    if regions_que.get(country)==None:\n",
    "        regions_que[country]=[]\n",
    "        print(df[country].values)\n",
    "        for row in df[country].values:\n",
    "            val= 0 if row.split(\" \")[1] ==\"\" else int(row.split(\" \")[1])\n",
    "            detail_list=[val,int(capacity_count.get(capacity[counter])),val/int(capacity_count.get(capacity[counter]))]    \n",
    "            regions_que[country].append(detail_list)\n",
    "            counter+=1\n",
    "        counter=0    \n",
    "    else:\n",
    "        for row in df[country].values:\n",
    "            val= 0 if row.split(\" \")[1] ==\"\" else int(row.split(\" \")[1])\n",
    "            detail_list=[val,int(capacity_count.get(capacity[counter])),val/int(capacity_count.get(capacity[counter]))]\n",
    "            regions_que[country].append(detail_list)\n",
    "            counter+=1\n",
    "\n",
    "\n",
    "print(regions_que)\n",
    "\n",
    "    \n",
    "    \n",
    "\n",
    "\n",
    "\n"
   ]
  },
  {
   "cell_type": "code",
   "execution_count": 7,
   "metadata": {},
   "outputs": [],
   "source": [
    "# now for each region we have to find that upto which package we can buy max and after that choose most on the having lest per unit in a bundle and remain other with else one\n"
   ]
  },
  {
   "cell_type": "code",
   "execution_count": 8,
   "metadata": {},
   "outputs": [
    {
     "data": {
      "text/plain": [
       "{'New York': [[1400, 160, 8.75],\n",
       "  [774, 80, 9.675],\n",
       "  [450, 40, 11.25],\n",
       "  [230, 20, 11.5],\n",
       "  [120, 10, 12.0]],\n",
       " 'India': [[1300, 160, 8.125],\n",
       "  [890, 80, 11.125],\n",
       "  [413, 40, 10.325],\n",
       "  [0, 20, 0.0],\n",
       "  [140, 10, 14.0]],\n",
       " 'China': [[1180, 160, 7.375],\n",
       "  [670, 80, 8.375],\n",
       "  [0, 40, 0.0],\n",
       "  [200, 20, 10.0],\n",
       "  [110, 10, 11.0]]}"
      ]
     },
     "execution_count": 8,
     "metadata": {},
     "output_type": "execute_result"
    }
   ],
   "source": [
    "def get_subset(total_instance):\n",
    "    subset_total_instance={}\n",
    "    for region in  regions_que.keys():\n",
    "        for available_resource in regions_que[region][::-1]:\n",
    "            if total_instance >=available_resource[1]:\n",
    "                if subset_total_instance.get(region)==None:\n",
    "                    subset_total_instance[region]=[]\n",
    "                    subset_total_instance[region].append(available_resource)\n",
    "                else:\n",
    "                    subset_total_instance[region].append(available_resource)\n",
    "    return subset_total_instance\n",
    "\n",
    "                \n",
    "get_subset(160)\n",
    "\n",
    "\n",
    "\n",
    "\n",
    "\n"
   ]
  },
  {
   "cell_type": "code",
   "execution_count": 9,
   "metadata": {},
   "outputs": [
    {
     "name": "stdout",
     "output_type": "stream",
     "text": [
      "{'New York': [[1400, 160, 8.75], [2820, 320, 8.8125], [774, 80, 9.675], [450, 40, 11.25], [230, 20, 11.5], [120, 10, 12.0]], 'India': [[0, 20, 0.0], [1300, 160, 8.125], [2970, 320, 9.28125], [413, 40, 10.325], [890, 80, 11.125], [140, 10, 14.0]], 'China': [[0, 320, 0.0], [0, 40, 0.0], [1180, 160, 7.375], [670, 80, 8.375], [200, 20, 10.0], [110, 10, 11.0]]}\n"
     ]
    }
   ],
   "source": [
    "def get_optimal(total_units,time_to_run):\n",
    "    #sorted(unsorted_list, key = lambda x: int(x[3]))\n",
    "    subset_data=get_subset(total_units)\n",
    "    for region in subset_data.keys():\n",
    "        #print(\"before_sort\",subset_data.get(region),\"\\n after sort\",sorted(subset_data.get(region), key = lambda x: x[2]))\n",
    "        subset_data[region]=sorted(subset_data.get(region), key = lambda x: x[2])\n",
    "    print(subset_data)\n",
    "\n",
    "\n",
    "\n",
    "\n",
    "\n",
    "get_optimal(3000,3)"
   ]
  },
  {
   "cell_type": "markdown",
   "metadata": {},
   "source": []
  },
  {
   "cell_type": "code",
   "execution_count": 161,
   "metadata": {},
   "outputs": [
    {
     "data": {
      "text/plain": [
       "0     $ 140\n",
       "1          \n",
       "2     $ 413\n",
       "3     $ 890\n",
       "4    $ 1300\n",
       "5    $ 2970\n",
       "Name: India, dtype: object"
      ]
     },
     "execution_count": 161,
     "metadata": {},
     "output_type": "execute_result"
    }
   ],
   "source": [
    "val='India'\n",
    "df[val]"
   ]
  }
 ],
 "metadata": {
  "kernelspec": {
   "display_name": "Python 3",
   "language": "python",
   "name": "python3"
  },
  "language_info": {
   "codemirror_mode": {
    "name": "ipython",
    "version": 3
   },
   "file_extension": ".py",
   "mimetype": "text/x-python",
   "name": "python",
   "nbconvert_exporter": "python",
   "pygments_lexer": "ipython3",
   "version": "3.7.7"
  }
 },
 "nbformat": 4,
 "nbformat_minor": 2
}
